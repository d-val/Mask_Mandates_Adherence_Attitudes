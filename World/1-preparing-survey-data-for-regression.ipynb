{
 "cells": [
  {
   "cell_type": "code",
   "execution_count": null,
   "metadata": {},
   "outputs": [],
   "source": [
    "import pandas as pd\n",
    "import time\n",
    "import seaborn as sns\n",
    "import matplotlib.pyplot as plt\n",
    "import numpy as np\n",
    "\n",
    "from IPython.core.display import display, HTML\n",
    "display(HTML(\"<style>.container { width:100% !important; }</style>\"))\n",
    "\n",
    "pd.set_option('display.max_columns', None)"
   ]
  },
  {
   "cell_type": "code",
   "execution_count": null,
   "metadata": {},
   "outputs": [],
   "source": [
    "start = time.time()\n",
    "data_df = pd.read_table('CovidBeliefsBehaviorsNormsSurvey/covid_survey_responses.txt.gz', \n",
    "                   sep='\\t', \n",
    "                   low_memory=False)\n",
    "print('reading finished', time.time()-start)"
   ]
  },
  {
   "cell_type": "code",
   "execution_count": null,
   "metadata": {},
   "outputs": [],
   "source": [
    "selected_survey = data_df[\n",
    "    (data_df['finished'] == True)\n",
    "    &\n",
    "    (data_df['demo_complete'] == 1)\n",
    "    &\n",
    "    (data_df['survey_type'] == 'waves')\n",
    "\n",
    "]\n",
    "\n",
    "print('wave type', selected_survey.shape, selected_survey.shape[0]/data_df.shape[0])\n",
    "\n",
    "\n",
    "selected_survey = selected_survey.dropna(subset=['geoip_country', 'weight_full_survey'])\n",
    "print('missing weights', selected_survey.shape, selected_survey.shape[0]/data_df.shape[0])\n",
    "\n",
    "\n",
    "selected_survey = selected_survey.loc[\n",
    "    (data_df['distancing_norms_wear_a_face_mask_or_covering'] != -1)\n",
    "    &\n",
    "    (data_df['distancing_norms_wear_a_face_mask_or_covering'] != -2)        \n",
    "]\n",
    "\n",
    "print('missing values', selected_survey.shape, selected_survey.shape[0]/data_df.shape[0])\n"
   ]
  },
  {
   "cell_type": "code",
   "execution_count": null,
   "metadata": {},
   "outputs": [],
   "source": [
    "print('num countries:', len(pd.unique(data_df['geoip_country'])))\n",
    "\n",
    "print('num countries:', pd.unique(data_df['geoip_country']))"
   ]
  },
  {
   "cell_type": "code",
   "execution_count": null,
   "metadata": {},
   "outputs": [],
   "source": [
    "simplified_survey = selected_survey[[\n",
    " 'id',\n",
    " 'finished', \n",
    " 'progress',   \n",
    " 'start_date',\n",
    " 'geoip_country',\n",
    " 'wave',\n",
    " 'weight_demo',\n",
    " 'weight_full_survey',\n",
    " 'distancing_norms_wear_a_face_mask_or_covering',\n",
    " 'community_norms_mask',                               \n",
    "]]\n",
    "\n",
    "print(simplified_survey.shape)\n",
    "simplified_survey.head()"
   ]
  },
  {
   "cell_type": "markdown",
   "metadata": {},
   "source": [
    "# mobility data"
   ]
  },
  {
   "cell_type": "code",
   "execution_count": null,
   "metadata": {},
   "outputs": [],
   "source": [
    "mobility_df = pd.read_csv('data/google_mobility/Global_Mobility_Report.csv')\n",
    "\n",
    "mobility_df.head()"
   ]
  },
  {
   "cell_type": "code",
   "execution_count": null,
   "metadata": {},
   "outputs": [],
   "source": [
    "print('survey countries', pd.unique(selected_survey['geoip_country']))\n",
    "print('\\nmobility countries', pd.unique(mobility_df['country_region']))"
   ]
  },
  {
   "cell_type": "code",
   "execution_count": null,
   "metadata": {},
   "outputs": [],
   "source": [
    "mobility_df = mobility_df[['country_region', 'date',\n",
    "       'retail_and_recreation_percent_change_from_baseline',\n",
    "       'grocery_and_pharmacy_percent_change_from_baseline',\n",
    "       'parks_percent_change_from_baseline',\n",
    "       'transit_stations_percent_change_from_baseline',\n",
    "       'workplaces_percent_change_from_baseline',\n",
    "       'residential_percent_change_from_baseline']]\n",
    "mobility_df.head()"
   ]
  },
  {
   "cell_type": "code",
   "execution_count": null,
   "metadata": {},
   "outputs": [],
   "source": [
    "# country data is at the state/county level, so we want to aggregate at the country level\n",
    "mobility_agg = mobility_df.groupby(['country_region', 'date']).agg(['mean'])\n",
    "mobility_agg.reset_index(inplace=True)\n",
    "mobility_agg.columns = ['country_region', 'date',\n",
    "       'retail_and_recreation_percent_change_from_baseline',\n",
    "       'grocery_and_pharmacy_percent_change_from_baseline',\n",
    "       'parks_percent_change_from_baseline',\n",
    "       'transit_stations_percent_change_from_baseline',\n",
    "       'workplaces_percent_change_from_baseline',\n",
    "       'residential_percent_change_from_baseline']\n",
    "\n",
    "print(mobility_agg.shape)\n",
    "mobility_agg.head()"
   ]
  },
  {
   "cell_type": "code",
   "execution_count": null,
   "metadata": {},
   "outputs": [],
   "source": [
    "simplified_survey['start_date'] = pd.to_datetime(simplified_survey['start_date'])\n",
    "mobility_agg['date'] = pd.to_datetime(mobility_agg['date'])\n",
    "\n",
    "survey_mobility = simplified_survey.merge(mobility_agg,\n",
    "                                            left_on = ['geoip_country', 'start_date'],\n",
    "                                            right_on = ['country_region', 'date'],\n",
    "                                            how='inner')                                         \n",
    "\n",
    "print(survey_mobility.shape,\n",
    "    simplified_survey.shape,\n",
    "    mobility_agg.shape)\n",
    "\n",
    "survey_mobility.head()"
   ]
  },
  {
   "cell_type": "markdown",
   "metadata": {},
   "source": [
    "# adding covid case, deaths, etc. data"
   ]
  },
  {
   "cell_type": "code",
   "execution_count": null,
   "metadata": {},
   "outputs": [],
   "source": [
    "# covid data from oxford\n",
    "# https://ourworldindata.org/covid-cases\n",
    "# data dictionary: https://github.com/owid/covid-19-data/blob/330c09376bb5035c6c35495c8ab3f603451c53d9/public/data/owid-covid-codebook.csv\n",
    "\n",
    "cases_df = pd.read_csv('data/cases/owid-covid-data.csv')\n",
    "\n",
    "cases_df.head()"
   ]
  },
  {
   "cell_type": "code",
   "execution_count": null,
   "metadata": {},
   "outputs": [],
   "source": [
    "cases_df.columns"
   ]
  },
  {
   "cell_type": "code",
   "execution_count": null,
   "metadata": {},
   "outputs": [],
   "source": [
    "cases_df = cases_df[[\n",
    "    'location',\n",
    "    'date',\n",
    "    'new_cases_smoothed_per_million',\n",
    "    'new_deaths_smoothed_per_million',\n",
    "    'hosp_patients_per_million',\n",
    "    'icu_patients_per_million',\n",
    "    'new_tests_smoothed_per_thousand',\n",
    "    'population_density',\n",
    "    'human_development_index'\n",
    "    \n",
    "]]\n",
    "\n",
    "cases_df.head()"
   ]
  },
  {
   "cell_type": "code",
   "execution_count": null,
   "metadata": {},
   "outputs": [],
   "source": [
    "cases_df['date'] = pd.to_datetime(cases_df['date'])\n",
    "\n",
    "survey_mobility_cases = survey_mobility.merge(cases_df,                                            \n",
    "                                            left_on = ['country_region', 'date'],\n",
    "                                            right_on = ['location', 'date'],  \n",
    "                                            how='inner')                                         \n",
    "\n",
    "print(survey_mobility_cases.shape,\n",
    "    survey_mobility.shape,\n",
    "    cases_df.shape)\n",
    "\n",
    "survey_mobility_cases.head()"
   ]
  },
  {
   "cell_type": "code",
   "execution_count": null,
   "metadata": {},
   "outputs": [],
   "source": [
    "survey_mobility_cases.to_csv('data/processed/survey_mobility_cases_new.csv', index=False)"
   ]
  }
 ],
 "metadata": {
  "kernelspec": {
   "display_name": "Python 3",
   "language": "python",
   "name": "python3"
  },
  "language_info": {
   "codemirror_mode": {
    "name": "ipython",
    "version": 3
   },
   "file_extension": ".py",
   "mimetype": "text/x-python",
   "name": "python",
   "nbconvert_exporter": "python",
   "pygments_lexer": "ipython3",
   "version": "3.7.9"
  }
 },
 "nbformat": 4,
 "nbformat_minor": 4
}
