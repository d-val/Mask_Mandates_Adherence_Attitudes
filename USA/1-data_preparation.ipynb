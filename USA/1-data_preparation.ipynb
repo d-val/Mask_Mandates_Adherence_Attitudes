{
 "cells": [
  {
   "cell_type": "code",
   "execution_count": null,
   "metadata": {},
   "outputs": [],
   "source": [
    "from IPython.core.display import display, HTML\n",
    "display(HTML(\"<style>.container { width:100% !important; }</style>\"))\n",
    "\n",
    "import json\n",
    "from glob import glob\n",
    "import os\n",
    "import pandas as pd\n",
    "import numpy as np\n",
    "import matplotlib.pyplot as plt\n",
    "import copy\n",
    "import time\n",
    "import multiprocessing\n",
    "from tqdm import tqdm\n",
    "from pathlib import Path\n",
    "import pickle\n",
    "from datetime import datetime, timedelta\n",
    "from scipy.interpolate import make_interp_spline, BSpline\n",
    "import covidcast\n",
    "import geonamescache\n",
    "import time\n",
    "from datetime import datetime, date\n",
    "\n",
    "import matplotlib\n",
    "matplotlib.rcParams['pdf.fonttype'] = 42\n",
    "matplotlib.rcParams['ps.fonttype'] = 42\n",
    "\n",
    "matplotlib.rcParams.update({\n",
    "    \"pgf.preamble\": [\n",
    "         \"\\\\usepackage{arev}\",\n",
    "        \"\\\\usepackage[T1]{fontenc}\"]\n",
    "})\n",
    "\n",
    "pd.set_option('display.max_columns', None)\n",
    "time_retrieval = datetime.now()\n",
    "\n",
    "time_produced = datetime.now()"
   ]
  },
  {
   "cell_type": "markdown",
   "metadata": {},
   "source": [
    "# hospitalization"
   ]
  },
  {
   "cell_type": "code",
   "execution_count": null,
   "metadata": {
    "scrolled": true
   },
   "outputs": [],
   "source": [
    "\"\"\"\n",
    "hospital admissions data from CMU\n",
    "API documentation here: https://cmu-delphi.github.io/delphi-epidata/api/covidcast_signals.html\n",
    "hospitalization documentation: https://cmu-delphi.github.io/delphi-epidata/api/covidcast-signals/hospital-admissions.html\n",
    "\"\"\"\n",
    "start = time.time()\n",
    "\n",
    "data = covidcast.signal(data_source=\"hospital-admissions\",\n",
    "                        signal=\"smoothed_adj_covid19\",\n",
    "                        start_day=date(2020, 1, 1),\n",
    "                        end_day=date(2020, 11, 30),\n",
    "                        geo_type=\"state\")\n",
    "\n",
    "\n",
    "print('time taken to get data:', time.time() - start, 'secs. shape:', data.shape)\n",
    "\n",
    "\n",
    "data['geo_value'] = data['geo_value'].astype(str)\n",
    "\n",
    "hospital_admissions_df = data\n",
    "\n",
    "print('% states we have data for:', len(pd.unique(hospital_admissions_df['geo_value']))/51*100, pd.unique(hospital_admissions_df['geo_value']) )\n",
    "\n",
    "\n",
    "hospital_admissions_trimmed_df = hospital_admissions_df[[\n",
    "    \"geo_value\", #FIPS\n",
    "    \"time_value\", #date\n",
    "    \"value\" #hospitalization number\n",
    "]]\n",
    "\n",
    "hospital_admissions_trimmed_df.columns = [\"state\", \"day\", \"hospitalization\"]\n",
    "\n",
    "hospital_admissions_trimmed_df['day'] = pd.to_datetime(hospital_admissions_trimmed_df['day'])\n",
    "print(np.min(hospital_admissions_trimmed_df['day']), np.max(hospital_admissions_trimmed_df['day']))\n",
    "print(hospital_admissions_trimmed_df.dtypes)\n",
    "hospital_admissions_trimmed_df.head()"
   ]
  },
  {
   "cell_type": "markdown",
   "metadata": {},
   "source": [
    "# deaths"
   ]
  },
  {
   "cell_type": "code",
   "execution_count": null,
   "metadata": {
    "scrolled": true
   },
   "outputs": [],
   "source": [
    "\"\"\"\n",
    "doctor's visits data from CMU\n",
    "API documentation here: https://cmu-delphi.github.io/delphi-epidata/api/covidcast_signals.html\n",
    "signal documentation: https://cmu-delphi.github.io/delphi-epidata/api/covidcast-signals/indicator-combination.html\n",
    "\"\"\"\n",
    "start = time.time()\n",
    "data = covidcast.signal(data_source=\"jhu-csse\",\n",
    "                        signal=\"deaths_7dav_incidence_prop\",\n",
    "                        start_day=date(2020, 1, 1),\n",
    "                        end_day=date(2020, 11, 30),\n",
    "                        geo_type=\"state\")\n",
    "\n",
    "\n",
    "data['geo_value'] = data['geo_value'].astype(str)\n",
    "\n",
    "deaths_df = data\n",
    "\n",
    "print('before dropping NA', deaths_df.shape)\n",
    "deaths_df = deaths_df[deaths_df['geo_value'].notna()]\n",
    "print('after dropping NA', deaths_df.shape)\n",
    "\n",
    "print('% states we have data for:', len(pd.unique(deaths_df['geo_value']))/51*100, pd.unique(deaths_df['geo_value']) )\n",
    "\n",
    "\n",
    "deaths_trimmed_df = deaths_df[[\n",
    "    \"geo_value\", #FIPS\n",
    "    \"time_value\", #date\n",
    "    \"value\" #hospitalization number\n",
    "]]\n",
    "\n",
    "deaths_trimmed_df.columns = [\"state\", \"day\", \"deaths\"]\n",
    "\n",
    "deaths_trimmed_df['day'] = pd.to_datetime(deaths_trimmed_df['day'])\n",
    "print(np.min(deaths_trimmed_df['day']), np.max(deaths_trimmed_df['day']))\n",
    "print(deaths_trimmed_df.dtypes)\n",
    "deaths_trimmed_df.head()"
   ]
  },
  {
   "cell_type": "markdown",
   "metadata": {},
   "source": [
    "# confirmed cases"
   ]
  },
  {
   "cell_type": "code",
   "execution_count": null,
   "metadata": {
    "scrolled": true
   },
   "outputs": [],
   "source": [
    "\"\"\"\n",
    "doctor's visits data from CMU\n",
    "API documentation here: https://cmu-delphi.github.io/delphi-epidata/api/covidcast_signals.html\n",
    "signal documentation: https://cmu-delphi.github.io/delphi-epidata/api/covidcast-signals/indicator-combination.html\n",
    "\"\"\"\n",
    "start = time.time()\n",
    "\n",
    "data = covidcast.signal(data_source=\"jhu-csse\",\n",
    "                        signal=\"confirmed_7dav_incidence_prop\",\n",
    "                        start_day=date(2020, 1, 1),\n",
    "                        end_day=date(2020, 11, 30),\n",
    "                        geo_type=\"state\")\n",
    "\n",
    "\n",
    "\n",
    "data = pd.read_csv('data/input/confirmed_cases_{}.csv'.format(time_retrieval))\n",
    "\n",
    "data['geo_value'] = data['geo_value'].astype(str)\n",
    "\n",
    "confirmed_cases_df = data\n",
    "\n",
    "print('before dropping NA', confirmed_cases_df.shape)\n",
    "confirmed_cases_df = confirmed_cases_df[confirmed_cases_df['geo_value'].notna()]\n",
    "print('after dropping NA', confirmed_cases_df.shape)\n",
    "\n",
    "print('% states we have data for:', len(pd.unique(confirmed_cases_df['geo_value']))/51*100, pd.unique(confirmed_cases_df['geo_value']) )\n",
    "\n",
    "\n",
    "confirmed_cases_trimmed_df = confirmed_cases_df[[\n",
    "    \"geo_value\", #FIPS\n",
    "    \"time_value\", #date\n",
    "    \"value\" #hospitalization number\n",
    "]]\n",
    "\n",
    "confirmed_cases_trimmed_df.columns = [\"state\", \"day\", \"confirmed_cases\"]\n",
    "\n",
    "confirmed_cases_trimmed_df['day'] = pd.to_datetime(confirmed_cases_trimmed_df['day'])\n",
    "print(np.min(confirmed_cases_trimmed_df['day']), np.max(confirmed_cases_trimmed_df['day']))\n",
    "\n",
    "print(confirmed_cases_trimmed_df.dtypes)\n",
    "confirmed_cases_trimmed_df.head()"
   ]
  },
  {
   "cell_type": "markdown",
   "metadata": {},
   "source": [
    "# merging all outcome variables"
   ]
  },
  {
   "cell_type": "code",
   "execution_count": null,
   "metadata": {},
   "outputs": [],
   "source": [
    "from functools import reduce\n",
    "merged_outcome_df = reduce(lambda x,y: pd.merge(x , y, left_on=['state', 'day'], right_on=['state', 'day'] , how='inner'), \n",
    "                           [hospital_admissions_trimmed_df,\n",
    "#                             doctor_visits_trimmed_df,\n",
    "                            confirmed_cases_trimmed_df,\n",
    "                            deaths_trimmed_df\n",
    "                           ])\n",
    "\n",
    "\n",
    "merged_outcome_df.head()"
   ]
  },
  {
   "cell_type": "markdown",
   "metadata": {},
   "source": [
    "# google mobility data"
   ]
  },
  {
   "cell_type": "code",
   "execution_count": null,
   "metadata": {
    "scrolled": false
   },
   "outputs": [],
   "source": [
    "\"\"\"\n",
    "# merging with mobility data \n",
    "# https://www.google.com/covid19/mobility/\n",
    "\"\"\"\n",
    "\n",
    "data = pd.read_csv('data/input/Global_Mobility_Report.csv.zip')\n",
    "google_mobility_agg_agg = data[data['country_region'] == \"United States\"]\n",
    "google_mobility_agg_agg['date'] = pd.to_datetime(google_mobility_agg_agg['date'])\n",
    "google_mobility_agg_agg = google_mobility_agg_agg[['sub_region_1', 'date', 'retail_and_recreation_percent_change_from_baseline', 'grocery_and_pharmacy_percent_change_from_baseline',\n",
    "       'parks_percent_change_from_baseline',\n",
    "       'transit_stations_percent_change_from_baseline',\n",
    "       'workplaces_percent_change_from_baseline',\n",
    "       'residential_percent_change_from_baseline']] \n",
    "google_mobility_agg_agg = google_mobility_agg_agg.groupby(['sub_region_1', 'date']).agg(['mean'])\n",
    "google_mobility_agg_agg.reset_index(inplace=True)\n",
    "\n",
    "\n",
    "google_mobility_agg_agg.columns = [\n",
    "'sub_region_1', 'date', 'retail_and_recreation', \n",
    "    'grocery_and_pharmacy',\n",
    "       'parks',\n",
    "       'transit_stations',\n",
    "       'workplaces',\n",
    "       'residential']\n",
    "\n",
    "for column in ['grocery_and_pharmacy',\n",
    "'retail_and_recreation',\n",
    "       'parks',\n",
    "       'transit_stations',\n",
    "       'workplaces',\n",
    "       'residential']:\n",
    "    \n",
    "    google_mobility_agg_agg[column] = (google_mobility_agg_agg[column]+100)/100\n",
    "    google_mobility_agg_agg[column+'_sq'] = google_mobility_agg_agg[column]**2\n",
    "\n",
    "\n",
    "for column in ['grocery_and_pharmacy',\n",
    "'retail_and_recreation',\n",
    "       'parks',\n",
    "       'transit_stations',\n",
    "       'workplaces',\n",
    "       'residential']:\n",
    "    print('plotting ', column)\n",
    "    plot_data = google_mobility_agg_agg\n",
    "    fig, ax = plt.subplots(figsize=(8, 5))\n",
    "    for label, grp in plot_data.groupby('sub_region_1'):\n",
    "        x = grp['date']\n",
    "        y = grp[column]\n",
    "        plt.plot(x, y, label = label, alpha = 0.8)\n",
    "    plt.title(column)\n",
    "#     plt.legend(loc=\"lower left\", ncol=16)\n",
    "    plt.ylabel(column, fontsize=16)\n",
    "\n",
    "\n",
    "print(pd.unique(google_mobility_agg_agg['sub_region_1']))    \n",
    "print(np.min(google_mobility_agg_agg['date']), np.max(google_mobility_agg_agg['date']))\n",
    "    \n",
    "google_mobility_agg_agg.head()"
   ]
  },
  {
   "cell_type": "markdown",
   "metadata": {},
   "source": [
    "# covid testing data"
   ]
  },
  {
   "cell_type": "code",
   "execution_count": null,
   "metadata": {},
   "outputs": [],
   "source": [
    "# data from: \n",
    "# https://covidtracking.com/data/api \n",
    "# https://covidtracking.com/about-data/data-definitions\n",
    "\n",
    "testing_data = pd.read_csv('data/input/all-states-history_dec01.csv')\n",
    "testing_data = testing_data[['date', 'state', 'totalTestResultsIncrease']]\n",
    "testing_data['date'] = pd.to_datetime(testing_data['date'])\n",
    "testing_data.head()"
   ]
  },
  {
   "cell_type": "markdown",
   "metadata": {},
   "source": [
    "# getting population to normalize testing rate by population"
   ]
  },
  {
   "cell_type": "code",
   "execution_count": null,
   "metadata": {},
   "outputs": [],
   "source": [
    "gc = geonamescache.GeonamesCache()\n",
    "states_dict = gc.get_us_states()\n",
    "states_df = pd.DataFrame()\n",
    "# transforming it into a pandas dataframe for merge later\n",
    "for key in states_dict.keys():\n",
    "    statecode = key\n",
    "#     print(key)\n",
    "    states_df = states_df.append({\n",
    "    \"statecode\": statecode,\n",
    "    \"Statename\": states_dict[statecode]['name']\n",
    "    }, ignore_index=True)\n",
    "\n",
    "# del counties_list\n",
    "# print(states_df.head())\n",
    "\n",
    "population_df = pd.read_csv('data/input/state_population.csv', thousands=',')\n",
    "# print(population_df.head())\n",
    "\n",
    "merged_population = population_df.merge(states_df,\n",
    "                                       left_on = ['State'],\n",
    "                                         right_on = ['Statename'],\n",
    "                                         how = 'left')\n",
    "\n",
    "print('population_df', population_df.shape,\n",
    "      '\\n states_df data', states_df.shape,\n",
    "      '\\nmerge', merged_population.shape)\n",
    "\n",
    "testing_data_pop_df = testing_data.merge(merged_population,\n",
    "                                         left_on = ['state'],\n",
    "                                         right_on = ['statecode'],\n",
    "                                         how = 'left')   \n",
    "\n",
    "print('testing_data', testing_data.shape,\n",
    "      '\\n merged_population', merged_population.shape,\n",
    "      '\\nmerge', testing_data_pop_df.shape)\n",
    "\n",
    "testing_data_pop_df['new_test_rate'] = testing_data_pop_df['totalTestResultsIncrease']/testing_data_pop_df['population']\n",
    "# print(testing_data_pop_df.head())\n",
    "\n",
    "testing_data_pop_df = testing_data_pop_df[['date', 'state', 'Statename', 'new_test_rate', 'totalTestResultsIncrease', 'population']]\n",
    "\n",
    "testing_data_pop_df.head()\n",
    "\n",
    "# merged_population\n",
    "# testing_data_pop_df"
   ]
  },
  {
   "cell_type": "code",
   "execution_count": null,
   "metadata": {},
   "outputs": [],
   "source": [
    "np.min(testing_data_pop_df['date']), np.max(testing_data_pop_df['date'])"
   ]
  },
  {
   "cell_type": "code",
   "execution_count": null,
   "metadata": {},
   "outputs": [],
   "source": [
    "merged_outcome_df['state'] = merged_outcome_df['state'].str.upper()\n",
    "\n",
    "merged_outcome_with_control = merged_outcome_df.merge(testing_data_pop_df, \n",
    "                                         left_on = ['state', 'day'],\n",
    "                                         right_on = ['state', 'date'])\n",
    "\n",
    "\n",
    "merged_outcome_with_control = merged_outcome_with_control[['state', 'date', 'Statename', 'hospitalization', \n",
    "#                                                            'hospitalization_abs', 'beds_100K','hospitalization_100K','inpatient_beds_used',                                                           \n",
    "                                                           'confirmed_cases', \n",
    "                                                           'deaths', 'new_test_rate',\n",
    "                                                           'totalTestResultsIncrease']]\n",
    "merged_outcome_with_control.head()"
   ]
  },
  {
   "cell_type": "code",
   "execution_count": null,
   "metadata": {},
   "outputs": [],
   "source": [
    "\n",
    "merged_outcome_with_control = merged_outcome_with_control.merge(google_mobility_agg_agg, \n",
    "                                         left_on = ['Statename', 'date'],\n",
    "                                         right_on = ['sub_region_1', 'date'])\n",
    "\n",
    "merged_outcome_with_control = merged_outcome_with_control[['state', 'date', 'Statename', 'hospitalization', \n",
    "                                                           'confirmed_cases',\n",
    "#                                                            'beds_100K', 'inpatient_beds_used','hospitalization_abs', 'hospitalization_100K',\n",
    "                                                           'deaths', 'new_test_rate',\n",
    "                                                           'totalTestResultsIncrease', 'retail_and_recreation',\n",
    "                                                           'grocery_and_pharmacy', 'parks', 'transit_stations', 'workplaces',\n",
    "                                                           'residential', 'grocery_and_pharmacy_sq', 'retail_and_recreation_sq',\n",
    "                                                           'parks_sq', 'transit_stations_sq', 'workplaces_sq', 'residential_sq']]\n",
    "\n",
    "merged_outcome_with_control.head()"
   ]
  },
  {
   "cell_type": "markdown",
   "metadata": {},
   "source": [
    "# getting temperature and humidity data"
   ]
  },
  {
   "cell_type": "code",
   "execution_count": null,
   "metadata": {},
   "outputs": [],
   "source": [
    "# this data is prepared by 1a-weather_data_us_states.ipynb\n",
    "\n",
    "NOAA_precipitation = pd.read_csv('data/input/NOAA_precipitation.csv')\n",
    "NOAA_precipitation['date'] = pd.to_datetime(NOAA_precipitation['date'])\n",
    "NOAA_temperature = pd.read_csv('data/input/NOAA_temperature.csv')\n",
    "NOAA_temperature['date'] = pd.to_datetime(NOAA_temperature['date'])\n",
    "\n",
    "print(NOAA_precipitation.head())\n",
    "print(NOAA_temperature.head())"
   ]
  },
  {
   "cell_type": "code",
   "execution_count": null,
   "metadata": {},
   "outputs": [],
   "source": [
    "merged_outcome_with_control_test = merged_outcome_with_control.merge(NOAA_precipitation,\n",
    "                                                  left_on = ['Statename', 'date'],                                                  \n",
    "                                                  right_on = ['location_name', 'date'],\n",
    "                                                how = 'left', # since we don't have weather data for AK, HI and DC\n",
    "#                                                  indicator=True \n",
    "                                                  )\n",
    "\n",
    "print('NOAA_precipitation', NOAA_precipitation.shape,\n",
    "      '\\n merged_outcome_with_control', merged_outcome_with_control.shape,\n",
    "      '\\nmerge', merged_outcome_with_control_test.shape)\n",
    "\n",
    "merged_outcome_with_control_test = merged_outcome_with_control_test.merge(NOAA_temperature,\n",
    "                                                  left_on = ['Statename', 'date'],                                                  \n",
    "                                                  right_on = ['location_name', 'date'],\n",
    "                                                how = 'left', \n",
    "#                                                  indicator=True \n",
    "                                                  )\n",
    "\n",
    "print('NOAA_temperature', NOAA_temperature.shape,\n",
    "      '\\n merged_outcome_with_control', merged_outcome_with_control.shape,\n",
    "      '\\nmerge', merged_outcome_with_control_test.shape)\n",
    "\n",
    "merged_outcome_with_control = merged_outcome_with_control_test[['state', 'date', 'Statename', 'hospitalization', \n",
    "#                                                                 'hospitalization_abs', 'hospitalization_100K',\n",
    "#                                                                 'beds_100K', 'inpatient_beds_used',\n",
    "       'confirmed_cases', 'deaths', 'new_test_rate',\n",
    "       'totalTestResultsIncrease',\n",
    "       'retail_and_recreation',\n",
    "       'grocery_and_pharmacy', 'parks', 'transit_stations', 'workplaces',\n",
    "       'residential', 'grocery_and_pharmacy_sq', 'retail_and_recreation_sq',\n",
    "       'parks_sq', 'transit_stations_sq', 'workplaces_sq', 'residential_sq',\n",
    "       'precipitation_avg', 'temperature_avg']]\n",
    "\n",
    "\n",
    "merged_outcome_with_control.head()"
   ]
  },
  {
   "cell_type": "code",
   "execution_count": null,
   "metadata": {},
   "outputs": [],
   "source": [
    "np.min(merged_outcome_with_control_test['date']), np.max(merged_outcome_with_control_test['date'])"
   ]
  },
  {
   "cell_type": "markdown",
   "metadata": {},
   "source": [
    "# reading mandate data"
   ]
  },
  {
   "cell_type": "code",
   "execution_count": null,
   "metadata": {},
   "outputs": [],
   "source": [
    "# data from https://github.com/USCOVIDpolicy/COVID-19-US-State-Policy-Database/blob/master/COVID-19%20US%20state%20policy%20database%2011_9_2020.xlsx\n",
    "# https://docs.google.com/spreadsheets/d/1zu9qEWI8PsOI_i8nI_S29HDGHlIp2lfVMsGxpQ5tvAQ/edit#gid=1894978869\n",
    "\n",
    "NPI_data = pd.read_excel('data/input/COVID-19 US state policy database 11_30_2020 corrected.xlsx',\n",
    "                        sheet_name = 'State policy changes ',\n",
    "#                       dtype = {\"POSTCODE\": str, \"FM_ALL\": str, \"FMFINE\": str, \"FMCITE\": str, \"FMNOENF\": str, \"FM_EMP\": str, \"FM_END\": str, \"FM_STP\": str},\n",
    "                        usecols = [\"POSTCODE\", \n",
    "                                   \"FM_ALL\", \"FM_EMP\", \"FM_END\", #mask stuff\n",
    "                                  \"STAYHOME\", \"STAYHOMENOGP\", \"END_STHM\", #stay at home\n",
    "                                   \"CLBSNS\", \"END_BSNS\" # Closed other non-essential businesses\n",
    "                                  ],\n",
    "                        skiprows = [1,2,3]\n",
    "                        \n",
    "                        )\n",
    "NPI_data = NPI_data.tail(53) # remove 'unit' row\n",
    "NPI_data = NPI_data.head(51) # remove trailing empty rows\n",
    "# NPI_data.head()\n",
    "NPI_data"
   ]
  },
  {
   "cell_type": "code",
   "execution_count": null,
   "metadata": {},
   "outputs": [],
   "source": [
    "# putting states with no mask mandates as a huge date in the future (where samurais wake up) for assignment to a dummy later\n",
    "NPI_data['FM_ALL'] = NPI_data['FM_ALL'].replace({0: \"2077-12-31\"}) \n",
    "NPI_data['FM_ALL'] = pd.to_datetime(NPI_data['FM_ALL'])\n",
    "\n",
    "NPI_data['FM_EMP'] = NPI_data['FM_EMP'].replace({0: \"2077-12-31\"})\n",
    "NPI_data['FM_EMP'] = pd.to_datetime(NPI_data['FM_EMP'])\n",
    "\n",
    "NPI_data['FM_END'] = NPI_data['FM_END'].replace({0: \"2077-12-31\"})\n",
    "NPI_data['FM_END'] = pd.to_datetime(NPI_data['FM_END'])\n",
    "\n",
    "NPI_data['STAYHOME'] = NPI_data['STAYHOME'].replace({0: \"2077-12-31\"})\n",
    "NPI_data['STAYHOME'] = pd.to_datetime(NPI_data['STAYHOME'])\n",
    "\n",
    "NPI_data['STAYHOMENOGP'] = NPI_data['STAYHOMENOGP'].replace({0: \"2077-12-31\"})\n",
    "NPI_data['STAYHOMENOGP'] = pd.to_datetime(NPI_data['STAYHOMENOGP'])\n",
    "\n",
    "NPI_data['END_STHM'] = NPI_data['END_STHM'].replace({0: \"2077-12-31\"})\n",
    "NPI_data['END_STHM'] = pd.to_datetime(NPI_data['END_STHM'])\n",
    "\n",
    "NPI_data['CLBSNS'] = NPI_data['CLBSNS'].replace({0: \"2077-12-31\"})\n",
    "NPI_data['CLBSNS'] = pd.to_datetime(NPI_data['CLBSNS'])\n",
    "\n",
    "NPI_data['END_BSNS'] = NPI_data['END_BSNS'].replace({0: \"2077-12-31\"})\n",
    "NPI_data['END_BSNS'] = pd.to_datetime(NPI_data['END_BSNS'])\n",
    "\n",
    "NPI_data.head()"
   ]
  },
  {
   "cell_type": "code",
   "execution_count": null,
   "metadata": {},
   "outputs": [],
   "source": [
    "NPI_data['earliest_policy_start'] = NPI_data[['FM_ALL','FM_EMP']].min(axis=1)\n",
    "NPI_data['earliest_STAYHOME_start'] = NPI_data[['STAYHOME','STAYHOMENOGP']].min(axis=1)\n",
    "\n",
    "NPI_data_trimmed = NPI_data[['POSTCODE', 'FM_END', 'earliest_policy_start', \n",
    "                             \"earliest_STAYHOME_start\", \"END_STHM\",\n",
    "                             \"CLBSNS\", \"END_BSNS\"]]\n",
    "print(NPI_data.dtypes)\n",
    "NPI_data_trimmed.head()"
   ]
  },
  {
   "cell_type": "markdown",
   "metadata": {},
   "source": [
    "# merging outcome with mandates"
   ]
  },
  {
   "cell_type": "code",
   "execution_count": null,
   "metadata": {},
   "outputs": [],
   "source": [
    "outcome_with_mandate = merged_outcome_with_control.merge(NPI_data_trimmed, \n",
    "                                         left_on = ['state'],\n",
    "                                         right_on = ['POSTCODE'],\n",
    "                                         how='inner')\n",
    "print(merged_outcome_with_control.shape,\n",
    "    NPI_data_trimmed.shape,\n",
    "    outcome_with_mandate.shape)\n",
    "\n",
    "outcome_with_mandate.head()"
   ]
  },
  {
   "cell_type": "code",
   "execution_count": null,
   "metadata": {},
   "outputs": [],
   "source": [
    "# masks\n",
    "outcome_with_mandate['delta_end'] = outcome_with_mandate['date'] - outcome_with_mandate['FM_END']\n",
    "outcome_with_mandate['delta_end'] = outcome_with_mandate['delta_end'].astype('timedelta64[D]').astype(int)  \n",
    "outcome_with_mandate['delta_day'] = outcome_with_mandate['date'] - outcome_with_mandate['earliest_policy_start']\n",
    "outcome_with_mandate['delta_day'] = outcome_with_mandate['delta_day'].astype('timedelta64[D]').astype(int)  \n",
    "\n",
    "#stay at home\n",
    "outcome_with_mandate['STAYHOME_delta_end'] = outcome_with_mandate['date'] - outcome_with_mandate['END_STHM']\n",
    "outcome_with_mandate['STAYHOME_delta_end'] = outcome_with_mandate['STAYHOME_delta_end'].astype('timedelta64[D]').astype(int)  \n",
    "outcome_with_mandate['STAYHOME_delta_day'] = outcome_with_mandate['date'] - outcome_with_mandate['earliest_STAYHOME_start']\n",
    "outcome_with_mandate['STAYHOME_delta_day'] = outcome_with_mandate['STAYHOME_delta_day'].astype('timedelta64[D]').astype(int)  \n",
    "\n",
    "#stay at home\n",
    "outcome_with_mandate['business_delta_end'] = outcome_with_mandate['date'] - outcome_with_mandate['CLBSNS']\n",
    "outcome_with_mandate['business_delta_end'] = outcome_with_mandate['business_delta_end'].astype('timedelta64[D]').astype(int)  \n",
    "outcome_with_mandate['business_delta_day'] = outcome_with_mandate['date'] - outcome_with_mandate['CLBSNS']\n",
    "outcome_with_mandate['business_delta_day'] = outcome_with_mandate['business_delta_day'].astype('timedelta64[D]').astype(int)  \n",
    "\n",
    "outcome_with_mandate.head()"
   ]
  },
  {
   "cell_type": "code",
   "execution_count": null,
   "metadata": {},
   "outputs": [],
   "source": [
    "outcome_with_mandate.loc[outcome_with_mandate['delta_day'] < -1000, 'delta_day'] = -10000\n",
    "outcome_with_mandate.loc[outcome_with_mandate['STAYHOME_delta_day'] < -1000, 'STAYHOME_delta_day'] = -10000\n",
    "outcome_with_mandate.loc[outcome_with_mandate['business_delta_day'] < -1000, 'business_delta_day'] = -10000"
   ]
  },
  {
   "cell_type": "code",
   "execution_count": null,
   "metadata": {},
   "outputs": [],
   "source": [
    "fig, ax = plt.subplots(figsize=(10, 10))\n",
    "# plt.hist( outcome_with_mandate.loc[outcome_with_mandate['delta_day'] > -1000, 'delta_day'], bins = 30 )\n",
    "plt.hist( outcome_with_mandate['delta_day'], bins = 30 )\n",
    "plt.xticks(rotation=90)"
   ]
  },
  {
   "cell_type": "code",
   "execution_count": null,
   "metadata": {},
   "outputs": [],
   "source": [
    "outcome_with_mandate['time'] = outcome_with_mandate['date'] - pd.to_datetime('2019-11-01')\n",
    "outcome_with_mandate['time'] = outcome_with_mandate['time'].astype('timedelta64[D]').astype(int)  \n",
    "\n",
    "outcome_with_mandate['time'].hist()\n",
    "\n",
    "outcome_with_mandate.head()"
   ]
  },
  {
   "cell_type": "markdown",
   "metadata": {},
   "source": [
    "# not taking data that's after a mask mandate ended"
   ]
  },
  {
   "cell_type": "code",
   "execution_count": null,
   "metadata": {},
   "outputs": [],
   "source": [
    "weekly_w_mandates_df = outcome_with_mandate\n",
    "weekly_w_mandates_df = weekly_w_mandates_df[\n",
    "    (weekly_w_mandates_df['delta_end'] < 0)\n",
    "#     & (weekly_w_mandates_df['STAYHOME_delta_end'] < 0) \n",
    "]\n",
    "\n",
    "print(outcome_with_mandate.shape, weekly_w_mandates_df.shape)"
   ]
  },
  {
   "cell_type": "markdown",
   "metadata": {},
   "source": [
    "# doing a z-normalization for outcome variables"
   ]
  },
  {
   "cell_type": "code",
   "execution_count": null,
   "metadata": {
    "scrolled": true
   },
   "outputs": [],
   "source": [
    "temp_normed = weekly_w_mandates_df[['state', 'confirmed_cases', 'deaths']]\n",
    "temp_normed = temp_normed.groupby(['state']).agg(['mean', 'std'])\n",
    "temp_normed.reset_index(inplace = True)\n",
    "temp_normed.columns = ['state', \n",
    "                       'confirmed_cases_mean', 'confirmed_cases_std',\n",
    "                      'deaths_mean', 'deaths_std',\n",
    "#                        'hospitalization_100K_mean', 'hospitalization_100K_std',\n",
    "#                        'hospitalization_abs_mean', 'hospitalization_abs_std',\n",
    "                      ]\n",
    "\n",
    "weekly_w_mandates_df = weekly_w_mandates_df.merge(temp_normed)\n",
    "\n",
    "weekly_w_mandates_df['confirmed_cases_normed'] = (weekly_w_mandates_df['confirmed_cases']-weekly_w_mandates_df['confirmed_cases_mean'])/weekly_w_mandates_df['confirmed_cases_std']\n",
    "weekly_w_mandates_df['deaths_normed'] = (weekly_w_mandates_df['deaths']-weekly_w_mandates_df['deaths_mean'])/weekly_w_mandates_df['deaths_std']\n",
    "# weekly_w_mandates_df['hospitalization_abs_normed'] = (weekly_w_mandates_df['hospitalization_abs']-weekly_w_mandates_df['hospitalization_abs_mean'])/weekly_w_mandates_df['hospitalization_abs_std']\n",
    "# weekly_w_mandates_df['hospitalization_100K_normed'] = (weekly_w_mandates_df['hospitalization_100K']-weekly_w_mandates_df['hospitalization_100K_mean'])/weekly_w_mandates_df['hospitalization_100K_std']\n",
    "\n",
    "weekly_w_mandates_df.head()\n",
    "\n",
    "# temp_normed.head()"
   ]
  },
  {
   "cell_type": "markdown",
   "metadata": {},
   "source": [
    "# creating delayed values for control"
   ]
  },
  {
   "cell_type": "code",
   "execution_count": null,
   "metadata": {},
   "outputs": [],
   "source": [
    "weekly_w_mandates_df['hospitalization_delay_14days'] = weekly_w_mandates_df['hospitalization'].shift(14)\n",
    "weekly_w_mandates_df['hospitalization_delay_14days_growth'] = (weekly_w_mandates_df['hospitalization'] - weekly_w_mandates_df['hospitalization_delay_14days'])/weekly_w_mandates_df['hospitalization_delay_14days']\n",
    "\n",
    "\n",
    "weekly_w_mandates_df['deaths_normed_delay_14days'] = weekly_w_mandates_df['deaths_normed'].shift(14)\n",
    "weekly_w_mandates_df['deaths_normed_delay_14days_growth'] = (weekly_w_mandates_df['deaths_normed'] - weekly_w_mandates_df['deaths_normed_delay_14days'])/weekly_w_mandates_df['deaths_normed_delay_14days']\n",
    "\n",
    "\n",
    "weekly_w_mandates_df['confirmed_cases_normed_delay_14days'] = weekly_w_mandates_df['confirmed_cases_normed'].shift(14)\n",
    "weekly_w_mandates_df['confirmed_cases_normed_delay_14days_growth'] = (weekly_w_mandates_df['confirmed_cases_normed'] - weekly_w_mandates_df['confirmed_cases_normed_delay_14days'])/weekly_w_mandates_df['confirmed_cases_normed_delay_14days']\n",
    "\n",
    "\n",
    "weekly_w_mandates_df.head(15)"
   ]
  },
  {
   "cell_type": "markdown",
   "metadata": {},
   "source": [
    "# daily data export"
   ]
  },
  {
   "cell_type": "code",
   "execution_count": null,
   "metadata": {},
   "outputs": [],
   "source": [
    "daily_data_df = weekly_w_mandates_df[weekly_w_mandates_df['delta_end'] < 0]\n",
    "\n",
    "print(daily_data_df.shape)\n",
    "daily_data_df.to_csv('data/output/daily_data_with_other_NPI_df_produced_{}.csv'.format(str(time_produced.strftime(\"%Y-%m-%d %H.%M\"))), index=False)\n",
    "print('data/output/daily_data_with_other_NPI_df_produced_{}.csv'.format(str(time_produced.strftime(\"%Y-%m-%d %H.%M\"))))\n",
    "daily_data_df.head()"
   ]
  },
  {
   "cell_type": "markdown",
   "metadata": {},
   "source": [
    "# robustness"
   ]
  },
  {
   "cell_type": "markdown",
   "metadata": {},
   "source": [
    "# trying to see if mandates have an effect on compliance for late states"
   ]
  },
  {
   "cell_type": "code",
   "execution_count": null,
   "metadata": {},
   "outputs": [],
   "source": [
    "# dates from https://delphi.cmu.edu/blog/2020/10/12/new-and-improved-covid-symptom-survey-tracks-testing-and-mask-wearing/\n",
    "# documentation: https://cmu-delphi.github.io/delphi-epidata/api/covidcast-signals/fb-survey.html\n",
    "\n",
    "mask_adherance = covidcast.signal(data_source=\"fb-survey\",\n",
    "                        signal=\"smoothed_wwearing_mask\",\n",
    "                        start_day=date(2020, 9, 1),\n",
    "                        end_day=date(2020, 12, 8),\n",
    "                        geo_type=\"state\")\n",
    "\n",
    "\n",
    "print('time taken to get data:', time.time() - start, 'secs. shape:', data.shape)\n",
    "mask_adherance.head()"
   ]
  },
  {
   "cell_type": "code",
   "execution_count": null,
   "metadata": {},
   "outputs": [],
   "source": [
    "mask_adherance_agg = mask_adherance[mask_adherance['sample_size'] > 0]\n",
    "print(mask_adherance_agg.shape, mask_adherance.shape)\n",
    "mask_adherance_agg = mask_adherance_agg[['geo_value', 'time_value', 'value']]\n",
    "mask_adherance_agg.columns = [\n",
    "    'state', 'date', 'compliance'\n",
    "]\n",
    "\n",
    "mask_adherance_agg['date'] = pd.to_datetime(mask_adherance_agg['date'])\n",
    "\n",
    "mask_adherance_agg.head()"
   ]
  },
  {
   "cell_type": "code",
   "execution_count": null,
   "metadata": {},
   "outputs": [],
   "source": [
    "\n",
    "names = {\n",
    "    1: 'Hawaii',\n",
    "    2: 'Iowa',\n",
    "    3: 'North Dakota',\n",
    "    4: 'New Hampshire'\n",
    "}\n",
    "\n",
    "dates = {\n",
    "    1: '2020-11-16 00:00',\n",
    "    2: '2020-11-16 07:00',\n",
    "    3: '2020-11-14',\n",
    "    4: '2020-11-20'\n",
    "}\n",
    "\n",
    "color = {\n",
    "    1: 'red',\n",
    "    2: 'green',\n",
    "    3: 'blue',\n",
    "    4: 'orange'\n",
    "}\n",
    "\n",
    "fig, ax = plt.subplots(figsize=(12, 8))\n",
    "for i, state in enumerate(['HI', 'IA', 'ND', 'NH']):    \n",
    "    plot_data = mask_adherance_agg[mask_adherance_agg['state'] == state.lower()]\n",
    "    plt.plot(plot_data['date'], \n",
    "             plot_data['compliance'],\n",
    "             label = names[i+1],\n",
    "             color = color[i+1]\n",
    "        )\n",
    "#     ax.axvline(pd.to_datetime(dates[i+1]), color = color[i+1])\n",
    "    \n",
    "    \n",
    "plt.legend(loc=\"lower right\", ncol=4)\n",
    "\n",
    "plt.ylabel(\"Mask Adherence (%)\", fontsize=16)\n",
    "plt.xlabel(\"Date\", fontsize=16)\n",
    "\n",
    "    "
   ]
  },
  {
   "cell_type": "code",
   "execution_count": null,
   "metadata": {},
   "outputs": [],
   "source": [
    "mask_adherance_select = mask_adherance_agg[mask_adherance_agg['state'].isin(['hi', 'ia', 'nd', 'nh'])]\n",
    "mask_adherance_select = mask_adherance_select.sort_values(by=['date'], ascending = False)\n",
    "mask_adherance_select.head()"
   ]
  },
  {
   "cell_type": "code",
   "execution_count": null,
   "metadata": {},
   "outputs": [],
   "source": [
    "# mask_adherance_select = mask_adherance_agg[mask_adherance_agg['state'].isin(['HI', 'IA', 'ND', 'NH'])]\n",
    "mask_adherance_select = mask_adherance_agg[mask_adherance_agg['state'].isin(['hi', 'ia', 'nd', 'nh'])]\n",
    "\n",
    "print(mask_adherance_select.shape, mask_adherance_agg.shape)\n",
    "\n",
    "late_state_mandates = pd.read_csv('data/input/late_state_mandates.csv')\n",
    "late_state_mandates['mandate_startdate'] = pd.to_datetime(late_state_mandates['mandate_startdate'])\n",
    "\n",
    "mask_adherance_merge = mask_adherance_select.merge(late_state_mandates,\n",
    "                                                  right_on = 'state',\n",
    "                                                  left_on = 'state',                                                  \n",
    "                                                  )\n",
    "\n",
    "print('mask_adherance_select', mask_adherance_select.shape,\n",
    "      '\\n late_state_mandates', late_state_mandates.shape,\n",
    "      '\\nmerge', mask_adherance_merge.shape)\n",
    "\n",
    "mask_adherance_merge.head()"
   ]
  },
  {
   "cell_type": "code",
   "execution_count": null,
   "metadata": {},
   "outputs": [],
   "source": [
    "mask_adherance_merge['delta_day'] = mask_adherance_merge['date'] - mask_adherance_merge['mandate_startdate']\n",
    "mask_adherance_merge['delta_day'] = mask_adherance_merge['delta_day'].astype('timedelta64[D]').astype(int)  \n",
    "mask_adherance_merge['delta_week'] = mask_adherance_merge['delta_day']/7.0\n",
    "mask_adherance_merge['delta_week'] = mask_adherance_merge['delta_week'].astype(int)  \n",
    "\n",
    "mask_adherance_merge.head()"
   ]
  },
  {
   "cell_type": "code",
   "execution_count": null,
   "metadata": {},
   "outputs": [],
   "source": [
    "fig, ax = plt.subplots(figsize=(8, 5))\n",
    "for state in ['HI', 'IA', 'ND', 'NH']:    \n",
    "    plot_data = mask_adherance_merge[mask_adherance_merge['state'] == state.lower()]\n",
    "    plt.plot(plot_data['delta_day'], \n",
    "             plot_data['compliance'],\n",
    "             label = state\n",
    "        )\n",
    "plt.legend(loc=\"lower left\", ncol=4)"
   ]
  },
  {
   "cell_type": "code",
   "execution_count": null,
   "metadata": {},
   "outputs": [],
   "source": [
    "mask_adherance_merge = mask_adherance_merge.sort_values(by=['delta_day'], ascending = False)\n",
    "mask_adherance_merge"
   ]
  },
  {
   "cell_type": "code",
   "execution_count": null,
   "metadata": {},
   "outputs": [],
   "source": [
    "mask_adherance_merge_outcomes = mask_adherance_merge.merge(confirmed_cases_trimmed_df,\n",
    "                                                  left_on = ['state', 'date'],                                                  \n",
    "                                                  right_on = ['state', 'day'],\n",
    "                                                  )\n",
    "print('mask_adherance_merge', mask_adherance_merge.shape,\n",
    "  \n",
    "      '\\nmerge', mask_adherance_merge_outcomes.shape)\n",
    "\n",
    "mask_adherance_merge_outcomes = mask_adherance_merge_outcomes.merge(deaths_trimmed_df,\n",
    "                                                  left_on = ['state', 'date'],                                                  \n",
    "                                                  right_on = ['state', 'day'],\n",
    "                                                  )\n",
    "\n",
    "mask_adherance_merge_outcomes['state'] = mask_adherance_merge_outcomes['state'].str.upper()\n",
    "\n",
    "print('mask_adherance_merge', mask_adherance_merge.shape,\n",
    "      '\\nmerge', mask_adherance_merge_outcomes.shape)\n",
    "\n",
    "mask_adherance_merge_outcomes = mask_adherance_merge_outcomes.merge(testing_data_pop_df,\n",
    "                                                  left_on = ['state', 'date'],                                                  \n",
    "                                                  right_on = ['state', 'date'],\n",
    "                                                  )\n",
    "\n",
    "print('mask_adherance_merge', mask_adherance_merge.shape,\n",
    "      '\\nmerge', mask_adherance_merge_outcomes.shape)\n",
    "\n",
    "mask_adherance_merge_outcomes = mask_adherance_merge_outcomes.merge(google_mobility_agg_agg,\n",
    "                                                  left_on = ['Statename', 'date'],                                                  \n",
    "                                                  right_on = ['sub_region_1', 'date'],\n",
    "                                                  )\n",
    "\n",
    "\n",
    "\n",
    "print('mask_adherance_merge', mask_adherance_merge.shape,\n",
    "      '\\nmerge', mask_adherance_merge_outcomes.shape)\n",
    "\n",
    "mask_adherance_merge_outcomes.head()"
   ]
  },
  {
   "cell_type": "code",
   "execution_count": null,
   "metadata": {},
   "outputs": [],
   "source": [
    "np.min(mask_adherance_merge_outcomes['date']), np.max(mask_adherance_merge_outcomes['date'])"
   ]
  },
  {
   "cell_type": "code",
   "execution_count": null,
   "metadata": {},
   "outputs": [],
   "source": [
    "mask_adherance_merge_outcomes.to_csv('data/output/mask_adherance_merge_outcomes_produced_{}.csv'.format(str(time_produced.strftime(\"%Y-%m-%d %H.%M\"))), \n",
    "                                     index=False)\n",
    "print('data/output/mask_adherance_merge_outcomes_produced_{}.csv'.format(str(time_produced.strftime(\"%Y-%m-%d %H.%M\"))))\n"
   ]
  },
  {
   "cell_type": "markdown",
   "metadata": {},
   "source": [
    "# regressing covid outcomes on mask adherance"
   ]
  },
  {
   "cell_type": "code",
   "execution_count": null,
   "metadata": {},
   "outputs": [],
   "source": [
    "mask_adherance_agg_temp = mask_adherance_agg\n",
    "mask_adherance_agg_temp['state'] = mask_adherance_agg_temp['state'].str.lower()\n",
    "\n",
    "mask_adherance_merge_outcomes_all_states = mask_adherance_agg_temp.merge(confirmed_cases_trimmed_df,\n",
    "                                                  left_on = ['state', 'date'],                                                  \n",
    "                                                  right_on = ['state', 'day'],\n",
    "                                                  )\n",
    "print(\n",
    "    'mask_adherance_agg_temp', mask_adherance_agg_temp.shape,\n",
    "      '\\n merged_outcome_df', confirmed_cases_trimmed_df.shape,\n",
    "#       '\\n deaths_trimmed_df', deaths_trimmed_df.shape,      \n",
    "#       '\\n testing_data_pop_df', testing_data_pop_df.shape,\n",
    "#       '\\n google_mobility_agg_agg', google_mobility_agg_agg.shape,      \n",
    "      '\\nmerge', mask_adherance_merge_outcomes_all_states.shape)\n",
    "\n",
    "\n",
    "mask_adherance_merge_outcomes_all_states = mask_adherance_merge_outcomes_all_states.merge(deaths_trimmed_df,\n",
    "                                                  left_on = ['state', 'day'],                                                  \n",
    "                                                  right_on = ['state', 'day'],\n",
    "                                                  )\n",
    "\n",
    "\n",
    "\n",
    "mask_adherance_merge_outcomes_all_states['state'] = mask_adherance_merge_outcomes_all_states['state'].str.upper()\n",
    "\n",
    "print(\n",
    "      '\\nmerge', mask_adherance_merge_outcomes_all_states.shape)\n",
    "\n",
    "mask_adherance_merge_outcomes_all_states = mask_adherance_merge_outcomes_all_states.merge(testing_data_pop_df,\n",
    "                                                  left_on = ['state', 'date'],                                                  \n",
    "                                                  right_on = ['state', 'date'],\n",
    "                                                  )\n",
    "\n",
    "print(\n",
    "      '\\nmerge', mask_adherance_merge_outcomes_all_states.shape)\n",
    "\n",
    "mask_adherance_merge_outcomes_all_states = mask_adherance_merge_outcomes_all_states.merge(google_mobility_agg_agg,\n",
    "                                                  left_on = ['Statename', 'date'],                                                  \n",
    "                                                  right_on = ['sub_region_1', 'date'],\n",
    "                                                  )\n",
    "\n",
    "\n",
    "\n",
    "print(\n",
    "      '\\nmerge', mask_adherance_merge_outcomes_all_states.shape)\n",
    "\n",
    "\n",
    "mask_adherance_merge_outcomes_all_states = mask_adherance_merge_outcomes_all_states.merge(NOAA_temperature,\n",
    "                                                  left_on = ['Statename', 'date'],                                                  \n",
    "                                                  right_on = ['location_name', 'date'],\n",
    "                                                how = 'left', \n",
    "#                                                  indicator=True \n",
    "                                                  )\n",
    "\n",
    "mask_adherance_merge_outcomes_all_states = mask_adherance_merge_outcomes_all_states.merge(NOAA_precipitation,\n",
    "                                                  left_on = ['Statename', 'date'],                                                  \n",
    "                                                  right_on = ['location_name', 'date'],\n",
    "                                                how = 'left', \n",
    "#                                                  indicator=True \n",
    "                                                  )\n",
    "\n",
    "print('NOAA_temperature', NOAA_temperature.shape,\n",
    "      '\\n mask_adherance_merge_outcomes_all_states', mask_adherance_merge_outcomes_all_states.shape)\n",
    "\n",
    "\n",
    "\n",
    "mask_adherance_merge_outcomes_all_states.head()"
   ]
  },
  {
   "cell_type": "code",
   "execution_count": null,
   "metadata": {},
   "outputs": [],
   "source": [
    "pd.unique(mask_adherance_merge_outcomes_all_states['state'])"
   ]
  },
  {
   "cell_type": "code",
   "execution_count": null,
   "metadata": {},
   "outputs": [],
   "source": [
    "mask_adherance_merge_outcomes_all_states.to_csv('data/output/mask_adherance_merge_outcomes_all_states_produced_{}.csv'.format(\n",
    "    str(time_produced.strftime(\"%Y-%m-%d %H.%M\"))), index=False)\n",
    "\n",
    "print('data/output/mask_adherance_merge_outcomes_all_states_produced_{}.csv'.format(\n",
    "    str(time_produced.strftime(\"%Y-%m-%d %H.%M\"))))"
   ]
  },
  {
   "cell_type": "markdown",
   "metadata": {},
   "source": [
    "# early vs late wave states"
   ]
  },
  {
   "cell_type": "code",
   "execution_count": null,
   "metadata": {},
   "outputs": [],
   "source": [
    "merged_outcome_df.head()"
   ]
  },
  {
   "cell_type": "code",
   "execution_count": null,
   "metadata": {},
   "outputs": [],
   "source": [
    "column = 'confirmed_cases'\n",
    "plot_data = merged_outcome_df\n",
    "fig, ax = plt.subplots(figsize=(20, 10))\n",
    "for label, grp in plot_data.groupby('state'):\n",
    "#     if label not in first_wave_states_list:\n",
    "#         continue\n",
    "    x = grp['day']\n",
    "    y = grp[column]\n",
    "    plt.plot(x, y, label = label, alpha = 0.8)\n",
    "plt.legend(loc=\"lower left\", ncol=16)"
   ]
  },
  {
   "cell_type": "code",
   "execution_count": null,
   "metadata": {},
   "outputs": [],
   "source": [
    "column = 'confirmed_cases'\n",
    "\n",
    "first_wave = merged_outcome_df[merged_outcome_df['day'] == pd.to_datetime('2020-04-15')]\n",
    "first_wave = first_wave.sort_values(by=[column], ascending = False)\n",
    "first_wave_states_list = first_wave['state'].to_list()[:15]\n",
    "first_wave_states_list = first_wave_states_list + ['WA']\n",
    "\n",
    "\n",
    "print(first_wave_states_list)\n",
    "\n",
    "plot_data = merged_outcome_df\n",
    "fig, ax = plt.subplots(figsize=(20, 10))\n",
    "for label, grp in plot_data.groupby('state'):\n",
    "    if label not in first_wave_states_list:\n",
    "        continue\n",
    "    x = grp['day']\n",
    "    y = grp[column]\n",
    "    plt.plot(x, y, label = label, alpha = 0.8)\n",
    "#     break\n",
    "plt.legend(loc=\"lower left\", ncol=16)\n",
    "# fig.suptitle('State Revenue Daily', fontsize=20)\n",
    "# plt.xlabel('Day', fontsize=18)\n",
    "plt.ylabel(column, fontsize=16)"
   ]
  }
 ],
 "metadata": {
  "kernelspec": {
   "display_name": "Python 3",
   "language": "python",
   "name": "python3"
  },
  "language_info": {
   "codemirror_mode": {
    "name": "ipython",
    "version": 3
   },
   "file_extension": ".py",
   "mimetype": "text/x-python",
   "name": "python",
   "nbconvert_exporter": "python",
   "pygments_lexer": "ipython3",
   "version": "3.7.9"
  }
 },
 "nbformat": 4,
 "nbformat_minor": 4
}
