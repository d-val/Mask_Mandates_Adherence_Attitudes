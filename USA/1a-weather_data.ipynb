{
 "cells": [
  {
   "cell_type": "raw",
   "metadata": {},
   "source": [
    "Run the following before working with this notebook (to download data for 2020) \n",
    "and adjust the path used at [3] below:\n",
    "$ wget --mirror ftp://ftp.ncdc.noaa.gov/pub/data/daily-grids/beta/by-month/2020/\n",
    "\n",
    "\n",
    "NOTE1: NOAA State codes are not FIPS codes... below the correct mapping..\n",
    "NOTE2: The data are for contiguous United States (i.e. no Alaska, Hawaii, and U.S. territories)"
   ]
  },
  {
   "cell_type": "code",
   "execution_count": null,
   "metadata": {},
   "outputs": [],
   "source": [
    "import pandas as pd\n",
    "import numpy as np\n",
    "from matplotlib import pyplot as plt\n",
    "%matplotlib inline\n",
    "from glob import glob as lsfiles\n",
    "import re"
   ]
  },
  {
   "cell_type": "code",
   "execution_count": null,
   "metadata": {},
   "outputs": [],
   "source": [
    "state_to_fips = {'AL': '01','AK': '02','AZ': '04','AR': '05','CA': '06',\n",
    "                 'CO': '08','CT': '09','DE': '10','FL': '12','GA': '13',\n",
    "                 'HI': '15','ID': '16','IL': '17','IN': '18','IA': '19',\n",
    "                 'KS': '20','KY': '21','LA': '22','ME': '23','MD': '24',\n",
    "                 'MA': '25','MI': '26','MN': '27','MS': '28','MO': '29',\n",
    "                 'MT': '30','NE': '31','NV': '32','NH': '33','NJ': '34',\n",
    "                 'NM': '35','NY': '36','NC': '37','ND': '38','OH': '39',\n",
    "                 'OK': '40','OR': '41','PA': '42','RI': '44','SC': '45',\n",
    "                 'SD': '46','TN': '47','TX': '48','UT': '49','VT': '50',\n",
    "                 'VA': '51','WA': '53','WV': '54','WI': '55','WY': '56',\n",
    "                 'AS': '60','GU': '66','MP': '69','PR': '72','VI': '78',\n",
    "                 'DC': '11'}"
   ]
  },
  {
   "cell_type": "code",
   "execution_count": null,
   "metadata": {},
   "outputs": [],
   "source": [
    "year = 2020\n",
    "fnames = lsfiles(f'data/input/weather/*-ste-*')\n",
    "print(fnames)"
   ]
  },
  {
   "cell_type": "code",
   "execution_count": null,
   "metadata": {},
   "outputs": [],
   "source": [
    "columns = ['resolution','fake_geoid','location_name','year','month','metric'] + list(range(1,32))\n",
    "keep_cols = ['resolution','fake_geoid','state','county_name','year','month','metric'] + list(range(1,32))"
   ]
  },
  {
   "cell_type": "raw",
   "metadata": {},
   "source": [
    "TMAX: Daily maximum temperature (°C)\n",
    "TMIN: Daily minimum temperature (°C)\n",
    "TAVG: Average temperature (°C), calculated as the average of TMAX and TMIN\n",
    "PRCP: Precipitation (mm)"
   ]
  },
  {
   "cell_type": "code",
   "execution_count": null,
   "metadata": {},
   "outputs": [],
   "source": [
    "df_noaa_county = []\n",
    "for fname in fnames:\n",
    "    print(fname)\n",
    "    df = pd.read_csv(fname, header=None, names=columns, dtype={'fake_geoid':str}, na_values=[-999.99])\n",
    "\n",
    "    df_noaa_county.append(df)\n",
    "    \n",
    "df_noaa_county = pd.concat(df_noaa_county)\n",
    "\n",
    "\n",
    "df_noaa_county.head()"
   ]
  },
  {
   "cell_type": "code",
   "execution_count": null,
   "metadata": {},
   "outputs": [],
   "source": [
    "df_noaa_county = df_noaa_county.melt(\n",
    "    id_vars=['resolution','fake_geoid','location_name','year','month','metric'], \n",
    "    var_name='day')\n",
    "\n",
    "df_noaa_county = df_noaa_county.dropna()\n",
    "df_noaa_county['date'] = pd.to_datetime(df_noaa_county[['year','month','day']])\n",
    "df_noaa_county.head()"
   ]
  },
  {
   "cell_type": "code",
   "execution_count": null,
   "metadata": {},
   "outputs": [],
   "source": [
    "df_noaa_county = df_noaa_county[['location_name','date','metric','value']]\n",
    "df_noaa_county"
   ]
  },
  {
   "cell_type": "code",
   "execution_count": null,
   "metadata": {},
   "outputs": [],
   "source": [
    "NOAA_temperature = df_noaa_county[df_noaa_county['metric'] == 'TAVG']\n",
    "NOAA_temperature = NOAA_temperature[['location_name','date','value']]\n",
    "NOAA_temperature.columns = ['location_name','date','temperature_avg']\n",
    "NOAA_temperature.to_csv('mandates/data/input/NOAA_temperature.csv', index=False)\n",
    "\n",
    "NOAA_temperature.head()"
   ]
  },
  {
   "cell_type": "code",
   "execution_count": null,
   "metadata": {},
   "outputs": [],
   "source": [
    "NOAA_precipitation = df_noaa_county[df_noaa_county['metric'] == 'PRCP']\n",
    "NOAA_precipitation = NOAA_precipitation[['location_name','date','value']]\n",
    "NOAA_precipitation.columns = ['location_name','date','precipitation_avg']\n",
    "NOAA_precipitation.to_csv('mandates/data/input/NOAA_precipitation.csv', index=False)\n",
    "\n",
    "NOAA_precipitation.head()"
   ]
  }
 ],
 "metadata": {
  "kernelspec": {
   "display_name": "Python 3",
   "language": "python",
   "name": "python3"
  },
  "language_info": {
   "codemirror_mode": {
    "name": "ipython",
    "version": 3
   },
   "file_extension": ".py",
   "mimetype": "text/x-python",
   "name": "python",
   "nbconvert_exporter": "python",
   "pygments_lexer": "ipython3",
   "version": "3.7.9"
  }
 },
 "nbformat": 4,
 "nbformat_minor": 4
}
